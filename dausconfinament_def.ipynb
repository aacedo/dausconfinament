{
 "cells": [
  {
   "cell_type": "code",
   "execution_count": 370,
   "metadata": {},
   "outputs": [],
   "source": [
    "#Llista de jugadors\n",
    "\n",
    "people = ['AlbertR','Vilà','Campi','Baron de la Birra','Borja','Guille','OriolR','OriolF','Pelaó','David']"
   ]
  },
  {
   "cell_type": "code",
   "execution_count": 369,
   "metadata": {
    "scrolled": false
   },
   "outputs": [],
   "source": [
    "def dausconfinament(people):\n",
    "    \n",
    "    import random\n",
    "    import numpy as np\n",
    "    \n",
    "    \n",
    "    num_people = len(people)\n",
    "    desempat = []\n",
    "    contador = \"\"\n",
    "\n",
    "\n",
    "    mylist=[random.randint(1, 6) for _ in range(num_people)]\n",
    "    #print(mylist)\n",
    "\n",
    "    #find minimum from the list\n",
    "    minimos = min(mylist)\n",
    "\n",
    "    #create array from the list for comparation\n",
    "    milist_array = np.array(mylist)\n",
    "\n",
    "    #create true-false array\n",
    "    y = milist_array == minimos\n",
    "\n",
    "    #count how many loosers are in the array\n",
    "    count = np.count_nonzero(y)\n",
    "\n",
    "\n",
    "    while count > 1 :\n",
    "        i = 0\n",
    "        for person in mylist:\n",
    "            print( str(people[i]) + ' : ' + str(mylist[i]))     \n",
    "            i = i + 1\n",
    "\n",
    "        coco = [j for j, gugu in enumerate(y) if gugu]\n",
    "        \n",
    "        #print(y)\n",
    "        #print(coco)\n",
    "\n",
    "        desempat = []\n",
    "        for i in coco:\n",
    "\n",
    "            desempat.append(people[i])\n",
    "\n",
    "\n",
    "        print('Van al desempat!!!!!!!!  : ' + str(desempat))\n",
    "\n",
    "        num_desempat = len(desempat)\n",
    "        mylist=[random.randint(1, 6) for _ in range(num_desempat)]\n",
    "        #print(mylist)\n",
    "\n",
    "        #find minimum from the list\n",
    "        minimos = min(mylist)\n",
    "\n",
    "        #create array from the list for comparation\n",
    "        milist_array = np.array(mylist)\n",
    "\n",
    "        #create true-false array\n",
    "        y = milist_array == minimos\n",
    "\n",
    "        #count how many loosers are in the group\n",
    "        count = np.count_nonzero(y)\n",
    "\n",
    "        people = desempat[:]\n",
    "\n",
    "\n",
    "    coco = [j for j, gugu in enumerate(y) if gugu]\n",
    "    index_looser = coco[0]\n",
    "\n",
    "\n",
    "    i = 0\n",
    "\n",
    "    for person in mylist:\n",
    "        print( str(people[i]) + ' : ' + str(mylist[i]))\n",
    "\n",
    "        i = i + 1\n",
    "\n",
    "    print('------------------')\n",
    "    print('AND THE LOOSER IS:   ' + str(people[index_looser]))\n"
   ]
  },
  {
   "cell_type": "code",
   "execution_count": 375,
   "metadata": {},
   "outputs": [
    {
     "name": "stdout",
     "output_type": "stream",
     "text": [
      "AlbertR : 5\n",
      "Vilà : 5\n",
      "Campi : 4\n",
      "Baron de la Birra : 4\n",
      "Borja : 1\n",
      "Guille : 3\n",
      "OriolR : 6\n",
      "OriolF : 2\n",
      "Pelaó : 1\n",
      "David : 2\n",
      "Van al desempat!!!!!!!!  : ['Borja', 'Pelaó']\n",
      "Borja : 3\n",
      "Pelaó : 5\n",
      "------------------\n",
      "AND THE LOOSER IS:   Borja\n"
     ]
    }
   ],
   "source": [
    "dausconfinament(people)"
   ]
  },
  {
   "cell_type": "code",
   "execution_count": null,
   "metadata": {},
   "outputs": [],
   "source": []
  }
 ],
 "metadata": {
  "kernelspec": {
   "display_name": "Python 3",
   "language": "python",
   "name": "python3"
  },
  "language_info": {
   "codemirror_mode": {
    "name": "ipython",
    "version": 3
   },
   "file_extension": ".py",
   "mimetype": "text/x-python",
   "name": "python",
   "nbconvert_exporter": "python",
   "pygments_lexer": "ipython3",
   "version": "3.7.4"
  }
 },
 "nbformat": 4,
 "nbformat_minor": 2
}
